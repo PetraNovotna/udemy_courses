{
  "nbformat": 4,
  "nbformat_minor": 0,
  "metadata": {
    "colab": {
      "name": "python_bootcamp.ipynb",
      "provenance": [],
      "mount_file_id": "1-2536BhuAq7lGwlDTAJMIxnoq2z4WBI7",
      "authorship_tag": "ABX9TyMGXAvyu8KUdLq8GME6bwoU",
      "include_colab_link": true
    },
    "kernelspec": {
      "name": "python3",
      "display_name": "Python 3"
    }
  },
  "cells": [
    {
      "cell_type": "markdown",
      "metadata": {
        "id": "view-in-github",
        "colab_type": "text"
      },
      "source": [
        "<a href=\"https://colab.research.google.com/github/PetraNovotna/udemy_courses/blob/master/python_bootcamp.ipynb\" target=\"_parent\"><img src=\"https://colab.research.google.com/assets/colab-badge.svg\" alt=\"Open In Colab\"/></a>"
      ]
    },
    {
      "cell_type": "code",
      "metadata": {
        "id": "E-k-HOthzcVy",
        "colab_type": "code",
        "colab": {
          "base_uri": "https://localhost:8080/",
          "height": 34
        },
        "outputId": "1757c745-cc3a-4757-c317-2eea0e91a4e4"
      },
      "source": [
        "%%writefile my_new_file.txt\n",
        "ONE ON FIRST "
      ],
      "execution_count": 1,
      "outputs": [
        {
          "output_type": "stream",
          "text": [
            "Writing my_new_file.txt\n"
          ],
          "name": "stdout"
        }
      ]
    }
  ]
}